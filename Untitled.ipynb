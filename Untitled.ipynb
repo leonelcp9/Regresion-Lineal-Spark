{
 "cells": [
  {
   "cell_type": "code",
   "execution_count": 1,
   "id": "384c2679",
   "metadata": {
    "scrolled": false
   },
   "outputs": [
    {
     "data": {
      "text/html": [
       "\n",
       "            <div>\n",
       "                <p><b>SparkSession - in-memory</b></p>\n",
       "                \n",
       "        <div>\n",
       "            <p><b>SparkContext</b></p>\n",
       "\n",
       "            <p><a href=\"http://DESKTOP-1SP8R6Q:4040\">Spark UI</a></p>\n",
       "\n",
       "            <dl>\n",
       "              <dt>Version</dt>\n",
       "                <dd><code>v3.3.0</code></dd>\n",
       "              <dt>Master</dt>\n",
       "                <dd><code>local[*]</code></dd>\n",
       "              <dt>AppName</dt>\n",
       "                <dd><code>Indice de Crimenes en Chicago</code></dd>\n",
       "            </dl>\n",
       "        </div>\n",
       "        \n",
       "            </div>\n",
       "        "
      ],
      "text/plain": [
       "<pyspark.sql.session.SparkSession at 0x207dabb8580>"
      ]
     },
     "execution_count": 1,
     "metadata": {},
     "output_type": "execute_result"
    },
    {
     "data": {
      "application/javascript": "\n            setTimeout(function() {\n                var nbb_cell_id = 1;\n                var nbb_unformatted_code = \"%load_ext nb_black\\nimport numpy as np\\nimport pandas as pd\\nimport sys\\nimport matplotlib.pyplot as plt\\n\\nfrom pyspark.sql import SparkSession\\nfrom pyspark import SparkConf\\nimport pyspark.sql.functions as F\\nfrom pyspark.sql import types as T\\n\\nplt.style.use(style=\\\"seaborn\\\")\\n%matplotlib inline\\n\\nspark = SparkSession.builder.appName(\\\"Indice de Crimenes en Chicago\\\").getOrCreate()\\nspark\";\n                var nbb_formatted_code = \"%load_ext nb_black\\nimport numpy as np\\nimport pandas as pd\\nimport sys\\nimport matplotlib.pyplot as plt\\n\\nfrom pyspark.sql import SparkSession\\nfrom pyspark import SparkConf\\nimport pyspark.sql.functions as F\\nfrom pyspark.sql import types as T\\n\\nplt.style.use(style=\\\"seaborn\\\")\\n%matplotlib inline\\n\\nspark = SparkSession.builder.appName(\\\"Indice de Crimenes en Chicago\\\").getOrCreate()\\nspark\";\n                var nbb_cells = Jupyter.notebook.get_cells();\n                for (var i = 0; i < nbb_cells.length; ++i) {\n                    if (nbb_cells[i].input_prompt_number == nbb_cell_id) {\n                        if (nbb_cells[i].get_text() == nbb_unformatted_code) {\n                             nbb_cells[i].set_text(nbb_formatted_code);\n                        }\n                        break;\n                    }\n                }\n            }, 500);\n            ",
      "text/plain": [
       "<IPython.core.display.Javascript object>"
      ]
     },
     "metadata": {},
     "output_type": "display_data"
    }
   ],
   "source": [
    "%load_ext nb_black\n",
    "import numpy as np\n",
    "import pandas as pd\n",
    "import sys\n",
    "import matplotlib.pyplot as plt\n",
    "\n",
    "from pyspark.sql import SparkSession\n",
    "from pyspark import SparkConf\n",
    "import pyspark.sql.functions as F\n",
    "from pyspark.sql import types as T\n",
    "\n",
    "plt.style.use(style=\"seaborn\")\n",
    "%matplotlib inline\n",
    "\n",
    "spark = SparkSession.builder.appName(\"Indice de Crimenes en Chicago\").getOrCreate()\n",
    "spark"
   ]
  },
  {
   "cell_type": "markdown",
   "id": "cf5c8bb9",
   "metadata": {},
   "source": [
    "### UDFs"
   ]
  },
  {
   "cell_type": "code",
   "execution_count": null,
   "id": "04e2b5d7",
   "metadata": {},
   "outputs": [],
   "source": [
    "unpack_list_udf = F.udf(\n",
    "    lambda x: list(set([item for sublist in x for item in sublist])),\n",
    "    T.ArrayType(T.StringType()),\n",
    ")\n",
    "\n",
    "mean_udf = F.udf(lambda x: float(np.mean(x)), T.FloatType())\n",
    "\n",
    "median_udf = F.udf(lambda x: float(np.median(x)), T.FloatType())"
   ]
  },
  {
   "cell_type": "markdown",
   "id": "0f31487c",
   "metadata": {},
   "source": [
    "### Leyendo el CSV"
   ]
  },
  {
   "cell_type": "code",
   "execution_count": null,
   "id": "39450f62",
   "metadata": {},
   "outputs": [],
   "source": [
    "df = spark.read.csv(\"./Chicago_Crimes_2012_to_2017.csv\", inferSchema=True, header=True)"
   ]
  }
 ],
 "metadata": {
  "kernelspec": {
   "display_name": "Python 3.8.13 ('IA')",
   "language": "python",
   "name": "python3"
  },
  "language_info": {
   "codemirror_mode": {
    "name": "ipython",
    "version": 3
   },
   "file_extension": ".py",
   "mimetype": "text/x-python",
   "name": "python",
   "nbconvert_exporter": "python",
   "pygments_lexer": "ipython3",
   "version": "3.8.13"
  },
  "vscode": {
   "interpreter": {
    "hash": "caf226e8141f7f2766267d4bff775ae294c0a7aaba4d7456f7557263250594e9"
   }
  }
 },
 "nbformat": 4,
 "nbformat_minor": 5
}
