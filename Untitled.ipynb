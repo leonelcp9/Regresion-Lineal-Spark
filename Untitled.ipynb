{
 "cells": [
  {
   "cell_type": "code",
   "execution_count": 20,
   "id": "384c2679",
   "metadata": {
    "scrolled": false
   },
   "outputs": [
    {
     "name": "stdout",
     "output_type": "stream",
     "text": [
      "The nb_black extension is already loaded. To reload it, use:\n",
      "  %reload_ext nb_black\n"
     ]
    },
    {
     "data": {
      "text/html": [
       "\n",
       "            <div>\n",
       "                <p><b>SparkSession - in-memory</b></p>\n",
       "                \n",
       "        <div>\n",
       "            <p><b>SparkContext</b></p>\n",
       "\n",
       "            <p><a href=\"http://DESKTOP-1SP8R6Q:4040\">Spark UI</a></p>\n",
       "\n",
       "            <dl>\n",
       "              <dt>Version</dt>\n",
       "                <dd><code>v3.3.0</code></dd>\n",
       "              <dt>Master</dt>\n",
       "                <dd><code>local[*]</code></dd>\n",
       "              <dt>AppName</dt>\n",
       "                <dd><code>Indice de Crimenes en Chicago</code></dd>\n",
       "            </dl>\n",
       "        </div>\n",
       "        \n",
       "            </div>\n",
       "        "
      ],
      "text/plain": [
       "<pyspark.sql.session.SparkSession at 0x207dabb8580>"
      ]
     },
     "execution_count": 20,
     "metadata": {},
     "output_type": "execute_result"
    },
    {
     "data": {
      "application/javascript": "\n            setTimeout(function() {\n                var nbb_cell_id = 20;\n                var nbb_unformatted_code = \"%load_ext nb_black\\nimport numpy as np\\nimport pandas as pd\\nimport sys\\nimport matplotlib.pyplot as plt\\n\\nfrom pyspark.sql import SparkSession\\nfrom pyspark import SparkConf\\nimport pyspark.sql.functions as F\\nfrom pyspark.sql.types import StructType,StructField, StringType, IntegerType\\nfrom pyspark.sql import types as T\\n\\nplt.style.use(style=\\\"seaborn\\\")\\n%matplotlib inline\\n\\nspark = SparkSession.builder.appName(\\\"Indice de Crimenes en Chicago\\\").getOrCreate()\\nspark\";\n                var nbb_formatted_code = \"%load_ext nb_black\\nimport numpy as np\\nimport pandas as pd\\nimport sys\\nimport matplotlib.pyplot as plt\\n\\nfrom pyspark.sql import SparkSession\\nfrom pyspark import SparkConf\\nimport pyspark.sql.functions as F\\nfrom pyspark.sql.types import StructType, StructField, StringType, IntegerType\\nfrom pyspark.sql import types as T\\n\\nplt.style.use(style=\\\"seaborn\\\")\\n%matplotlib inline\\n\\nspark = SparkSession.builder.appName(\\\"Indice de Crimenes en Chicago\\\").getOrCreate()\\nspark\";\n                var nbb_cells = Jupyter.notebook.get_cells();\n                for (var i = 0; i < nbb_cells.length; ++i) {\n                    if (nbb_cells[i].input_prompt_number == nbb_cell_id) {\n                        if (nbb_cells[i].get_text() == nbb_unformatted_code) {\n                             nbb_cells[i].set_text(nbb_formatted_code);\n                        }\n                        break;\n                    }\n                }\n            }, 500);\n            ",
      "text/plain": [
       "<IPython.core.display.Javascript object>"
      ]
     },
     "metadata": {},
     "output_type": "display_data"
    }
   ],
   "source": [
    "%load_ext nb_black\n",
    "import numpy as np\n",
    "import pandas as pd\n",
    "import sys\n",
    "import matplotlib.pyplot as plt\n",
    "\n",
    "from pyspark.sql import SparkSession\n",
    "from pyspark import SparkConf\n",
    "import pyspark.sql.functions as F\n",
    "from pyspark.sql.types import StructType,StructField, StringType, IntegerType\n",
    "from pyspark.sql import types as T\n",
    "\n",
    "plt.style.use(style=\"seaborn\")\n",
    "%matplotlib inline\n",
    "\n",
    "spark = SparkSession.builder.appName(\"Indice de Crimenes en Chicago\").getOrCreate()\n",
    "spark"
   ]
  },
  {
   "cell_type": "markdown",
   "id": "cf5c8bb9",
   "metadata": {},
   "source": [
    "### UDFs"
   ]
  },
  {
   "cell_type": "code",
   "execution_count": 21,
   "id": "04e2b5d7",
   "metadata": {},
   "outputs": [
    {
     "data": {
      "application/javascript": "\n            setTimeout(function() {\n                var nbb_cell_id = 21;\n                var nbb_unformatted_code = \"unpack_list_udf = F.udf(\\n    lambda x: list(set([item for sublist in x for item in sublist])),\\n    T.ArrayType(T.StringType()),\\n)\\n\\nmean_udf = F.udf(lambda x: float(np.mean(x)), T.FloatType())\\n\\nmedian_udf = F.udf(lambda x: float(np.median(x)), T.FloatType())\\n\\n# schema = StructType([ \\\\\\n#     StructField(\\\"firstname\\\",StringType(),True), \\\\\\n#     StructField(\\\"middlename\\\",StringType(),True), \\\\\\n#     StructField(\\\"lastname\\\",StringType(),True), \\\\\\n#     StructField(\\\"id\\\", StringType(), True), \\\\\\n#     StructField(\\\"gender\\\", StringType(), True), \\\\\\n#     StructField(\\\"salary\\\", IntegerType(), True) \\\\\\n#   ])\\n \\n# df = spark.createDataFrame(data=data,schema=schema)\\n# df.printSchema()\";\n                var nbb_formatted_code = \"unpack_list_udf = F.udf(\\n    lambda x: list(set([item for sublist in x for item in sublist])),\\n    T.ArrayType(T.StringType()),\\n)\\n\\nmean_udf = F.udf(lambda x: float(np.mean(x)), T.FloatType())\\n\\nmedian_udf = F.udf(lambda x: float(np.median(x)), T.FloatType())\\n\\n# schema = StructType([ \\\\\\n#     StructField(\\\"firstname\\\",StringType(),True), \\\\\\n#     StructField(\\\"middlename\\\",StringType(),True), \\\\\\n#     StructField(\\\"lastname\\\",StringType(),True), \\\\\\n#     StructField(\\\"id\\\", StringType(), True), \\\\\\n#     StructField(\\\"gender\\\", StringType(), True), \\\\\\n#     StructField(\\\"salary\\\", IntegerType(), True) \\\\\\n#   ])\\n\\n# df = spark.createDataFrame(data=data,schema=schema)\\n# df.printSchema()\";\n                var nbb_cells = Jupyter.notebook.get_cells();\n                for (var i = 0; i < nbb_cells.length; ++i) {\n                    if (nbb_cells[i].input_prompt_number == nbb_cell_id) {\n                        if (nbb_cells[i].get_text() == nbb_unformatted_code) {\n                             nbb_cells[i].set_text(nbb_formatted_code);\n                        }\n                        break;\n                    }\n                }\n            }, 500);\n            ",
      "text/plain": [
       "<IPython.core.display.Javascript object>"
      ]
     },
     "metadata": {},
     "output_type": "display_data"
    }
   ],
   "source": [
    "unpack_list_udf = F.udf(\n",
    "    lambda x: list(set([item for sublist in x for item in sublist])),\n",
    "    T.ArrayType(T.StringType()),\n",
    ")\n",
    "\n",
    "mean_udf = F.udf(lambda x: float(np.mean(x)), T.FloatType())\n",
    "\n",
    "median_udf = F.udf(lambda x: float(np.median(x)), T.FloatType())\n",
    "\n",
    "# schema = StructType([ \\\n",
    "#     StructField(\"firstname\",StringType(),True), \\\n",
    "#     StructField(\"middlename\",StringType(),True), \\\n",
    "#     StructField(\"lastname\",StringType(),True), \\\n",
    "#     StructField(\"id\", StringType(), True), \\\n",
    "#     StructField(\"gender\", StringType(), True), \\\n",
    "#     StructField(\"salary\", IntegerType(), True) \\\n",
    "#   ])\n",
    " \n",
    "# df = spark.createDataFrame(data=data,schema=schema)\n",
    "# df.printSchema()"
   ]
  },
  {
   "cell_type": "markdown",
   "id": "0f31487c",
   "metadata": {},
   "source": [
    "### Leyendo el CSV"
   ]
  },
  {
   "cell_type": "code",
   "execution_count": 22,
   "id": "39450f62",
   "metadata": {},
   "outputs": [
    {
     "data": {
      "application/javascript": "\n            setTimeout(function() {\n                var nbb_cell_id = 22;\n                var nbb_unformatted_code = \"df = spark.read.csv(\\\"./Chicago_Crimes_2012_to_2017.csv\\\", inferSchema=True, header=True)\";\n                var nbb_formatted_code = \"df = spark.read.csv(\\\"./Chicago_Crimes_2012_to_2017.csv\\\", inferSchema=True, header=True)\";\n                var nbb_cells = Jupyter.notebook.get_cells();\n                for (var i = 0; i < nbb_cells.length; ++i) {\n                    if (nbb_cells[i].input_prompt_number == nbb_cell_id) {\n                        if (nbb_cells[i].get_text() == nbb_unformatted_code) {\n                             nbb_cells[i].set_text(nbb_formatted_code);\n                        }\n                        break;\n                    }\n                }\n            }, 500);\n            ",
      "text/plain": [
       "<IPython.core.display.Javascript object>"
      ]
     },
     "metadata": {},
     "output_type": "display_data"
    }
   ],
   "source": [
    "df = spark.read.csv(\"./Chicago_Crimes_2012_to_2017.csv\", inferSchema=True, header=True)"
   ]
  },
  {
   "cell_type": "code",
   "execution_count": 23,
   "id": "86393374",
   "metadata": {},
   "outputs": [
    {
     "data": {
      "application/javascript": "\n            setTimeout(function() {\n                var nbb_cell_id = 23;\n                var nbb_unformatted_code = \"df = df.toDF(\\n    \\\"_c0\\\",\\n    \\\"ID\\\",\\n    \\\"Case Number\\\",\\n    \\\"Date\\\",\\n    \\\"Block\\\",\\n    \\\"IUCR\\\",\\n    \\\"Primary Type\\\",\\n    \\\"Description\\\",\\n    \\\"Location Description\\\",\\n    \\\"Arrest\\\",\\\"Domestic\\\",\\n    \\\"Beat\\\",\\\"District\\\",\\n    \\\"Ward\\\",\\n    \\\"Community Area\\\",\\n    \\\"FBI Code\\\",\\n    \\\"X Coordinate\\\",\\n    \\\"Y Coordinate\\\",\\n    \\\"Year\\\",\\n    \\\"Updated On\\\",\\n    \\\"Latitude\\\",\\n    \\\"Longitude\\\",\\n    \\\"Location\\\"\\n)\";\n                var nbb_formatted_code = \"df = df.toDF(\\n    \\\"_c0\\\",\\n    \\\"ID\\\",\\n    \\\"Case Number\\\",\\n    \\\"Date\\\",\\n    \\\"Block\\\",\\n    \\\"IUCR\\\",\\n    \\\"Primary Type\\\",\\n    \\\"Description\\\",\\n    \\\"Location Description\\\",\\n    \\\"Arrest\\\",\\n    \\\"Domestic\\\",\\n    \\\"Beat\\\",\\n    \\\"District\\\",\\n    \\\"Ward\\\",\\n    \\\"Community Area\\\",\\n    \\\"FBI Code\\\",\\n    \\\"X Coordinate\\\",\\n    \\\"Y Coordinate\\\",\\n    \\\"Year\\\",\\n    \\\"Updated On\\\",\\n    \\\"Latitude\\\",\\n    \\\"Longitude\\\",\\n    \\\"Location\\\",\\n)\";\n                var nbb_cells = Jupyter.notebook.get_cells();\n                for (var i = 0; i < nbb_cells.length; ++i) {\n                    if (nbb_cells[i].input_prompt_number == nbb_cell_id) {\n                        if (nbb_cells[i].get_text() == nbb_unformatted_code) {\n                             nbb_cells[i].set_text(nbb_formatted_code);\n                        }\n                        break;\n                    }\n                }\n            }, 500);\n            ",
      "text/plain": [
       "<IPython.core.display.Javascript object>"
      ]
     },
     "metadata": {},
     "output_type": "display_data"
    }
   ],
   "source": [
    "df = df.toDF(\n",
    "    \"_c0\",\n",
    "    \"ID\",\n",
    "    \"Case Number\",\n",
    "    \"Date\",\n",
    "    \"Block\",\n",
    "    \"IUCR\",\n",
    "    \"Primary Type\",\n",
    "    \"Description\",\n",
    "    \"Location Description\",\n",
    "    \"Arrest\",\"Domestic\",\n",
    "    \"Beat\",\"District\",\n",
    "    \"Ward\",\n",
    "    \"Community Area\",\n",
    "    \"FBI Code\",\n",
    "    \"X Coordinate\",\n",
    "    \"Y Coordinate\",\n",
    "    \"Year\",\n",
    "    \"Updated On\",\n",
    "    \"Latitude\",\n",
    "    \"Longitude\",\n",
    "    \"Location\"\n",
    ")"
   ]
  },
  {
   "cell_type": "code",
   "execution_count": 24,
   "metadata": {},
   "outputs": [
    {
     "data": {
      "application/javascript": "\n            setTimeout(function() {\n                var nbb_cell_id = 24;\n                var nbb_unformatted_code = \"def procesando_datos(data, loc_descripcion, tipo_crimenes):\\n    dato_locacion = {}\\n\\n    assert data.groupBy(\\\"ID\\\").count().count() == data.count()\\n\\n    for tipo_crimen in tipo_crimenes:\\n\\n        filtered = data.filter(data[\\\"Primary Type\\\"] == tipo_crimen)\\n\\n        filtered = filtered.withColumn(\\n            \\\"Date\\\", F.to_timestamp(filtered.Date, \\\"yyyy-MM-dd 00:00\\\")\\n        )\\n\\n        dato_locacion[tipo_crimen] = {}\\n        for locacion in loc_descripcion:\\n            sub = (\\n                filtered.filter(filtered[\\\"Location Description\\\"] == locacion)\\n                .groupBy(\\\"Date\\\", F.window(\\\"Date\\\", \\\"30 days\\\"))\\n                .agg(\\n                    F.expr(\\\"collect_list(Domestic)\\\").alias(\\\"Domesticos\\\"),\\n                    F.expr(\\\"count('ID')\\\").alias(\\\"Count\\\"),\\n                )\\n            )\\n\\n            sub = sub.select(\\\"Date\\\", \\\"window.*\\\", \\\"Domesticos\\\", \\\"Count\\\").sort(F.asc(\\\"end\\\"))\\n\\n            sub = sub.groupBy(\\\"end\\\").agg(\\n                F.expr(\\\"collect_list(Domesticos)\\\").alias(\\\"Domesticos\\\"),\\n                F.expr(\\\"sum(Count)\\\").alias(\\\"Count\\\"),\\n            )\\n\\n            sub = sub.withColumn(\\\"Domesticos\\\", unpack_list_udf(F.col(\\\"Domesticos\\\")))\\n\\n            sub = (\\n                sub.withColumn(\\\"Mean\\\", mean_udf(\\\"Domesticos\\\"))\\n                .withColumn(\\\"Median\\\", median_udf(\\\"Domesticos\\\"))\\n                .drop(\\\"Domesticos\\\")\\n            )\\n\\n            dato_locacion[tipo_crimen][locacion] = sub\\n\\n    return dato_locacion\";\n                var nbb_formatted_code = \"def procesando_datos(data, loc_descripcion, tipo_crimenes):\\n    dato_locacion = {}\\n\\n    assert data.groupBy(\\\"ID\\\").count().count() == data.count()\\n\\n    for tipo_crimen in tipo_crimenes:\\n\\n        filtered = data.filter(data[\\\"Primary Type\\\"] == tipo_crimen)\\n\\n        filtered = filtered.withColumn(\\n            \\\"Date\\\", F.to_timestamp(filtered.Date, \\\"yyyy-MM-dd 00:00\\\")\\n        )\\n\\n        dato_locacion[tipo_crimen] = {}\\n        for locacion in loc_descripcion:\\n            sub = (\\n                filtered.filter(filtered[\\\"Location Description\\\"] == locacion)\\n                .groupBy(\\\"Date\\\", F.window(\\\"Date\\\", \\\"30 days\\\"))\\n                .agg(\\n                    F.expr(\\\"collect_list(Domestic)\\\").alias(\\\"Domesticos\\\"),\\n                    F.expr(\\\"count('ID')\\\").alias(\\\"Count\\\"),\\n                )\\n            )\\n\\n            sub = sub.select(\\\"Date\\\", \\\"window.*\\\", \\\"Domesticos\\\", \\\"Count\\\").sort(\\n                F.asc(\\\"end\\\")\\n            )\\n\\n            sub = sub.groupBy(\\\"end\\\").agg(\\n                F.expr(\\\"collect_list(Domesticos)\\\").alias(\\\"Domesticos\\\"),\\n                F.expr(\\\"sum(Count)\\\").alias(\\\"Count\\\"),\\n            )\\n\\n            sub = sub.withColumn(\\\"Domesticos\\\", unpack_list_udf(F.col(\\\"Domesticos\\\")))\\n\\n            sub = (\\n                sub.withColumn(\\\"Mean\\\", mean_udf(\\\"Domesticos\\\"))\\n                .withColumn(\\\"Median\\\", median_udf(\\\"Domesticos\\\"))\\n                .drop(\\\"Domesticos\\\")\\n            )\\n\\n            dato_locacion[tipo_crimen][locacion] = sub\\n\\n    return dato_locacion\";\n                var nbb_cells = Jupyter.notebook.get_cells();\n                for (var i = 0; i < nbb_cells.length; ++i) {\n                    if (nbb_cells[i].input_prompt_number == nbb_cell_id) {\n                        if (nbb_cells[i].get_text() == nbb_unformatted_code) {\n                             nbb_cells[i].set_text(nbb_formatted_code);\n                        }\n                        break;\n                    }\n                }\n            }, 500);\n            ",
      "text/plain": [
       "<IPython.core.display.Javascript object>"
      ]
     },
     "metadata": {},
     "output_type": "display_data"
    }
   ],
   "source": [
    "def procesando_datos(data, loc_descripcion, tipo_crimenes):\n",
    "    dato_locacion = {}\n",
    "\n",
    "    assert data.groupBy(\"ID\").count().count() == data.count()\n",
    "\n",
    "    for tipo_crimen in tipo_crimenes:\n",
    "\n",
    "        filtered = data.filter(data[\"Primary Type\"] == tipo_crimen)\n",
    "\n",
    "        filtered = filtered.withColumn(\n",
    "            \"Date\", F.to_timestamp(filtered.Date, \"yyyy-MM-dd 00:00\")\n",
    "        )\n",
    "\n",
    "        dato_locacion[tipo_crimen] = {}\n",
    "        for locacion in loc_descripcion:\n",
    "            sub = (\n",
    "                filtered.filter(filtered[\"Location Description\"] == locacion)\n",
    "                .groupBy(\"Date\", F.window(\"Date\", \"30 days\"))\n",
    "                .agg(\n",
    "                    F.expr(\"collect_list(Domestic)\").alias(\"Domesticos\"),\n",
    "                    F.expr(\"count('ID')\").alias(\"Count\"),\n",
    "                )\n",
    "            )\n",
    "\n",
    "            sub = sub.select(\"Date\", \"window.*\", \"Domesticos\", \"Count\").sort(F.asc(\"end\"))\n",
    "\n",
    "            sub = sub.groupBy(\"end\").agg(\n",
    "                F.expr(\"collect_list(Domesticos)\").alias(\"Domesticos\"),\n",
    "                F.expr(\"sum(Count)\").alias(\"Count\"),\n",
    "            )\n",
    "\n",
    "            sub = sub.withColumn(\"Domesticos\", unpack_list_udf(F.col(\"Domesticos\")))\n",
    "\n",
    "            sub = (\n",
    "                sub.withColumn(\"Mean\", mean_udf(\"Domesticos\"))\n",
    "                .withColumn(\"Median\", median_udf(\"Domesticos\"))\n",
    "                .drop(\"Domesticos\")\n",
    "            )\n",
    "\n",
    "            dato_locacion[tipo_crimen][locacion] = sub\n",
    "\n",
    "    return dato_locacion"
   ]
  },
  {
   "cell_type": "code",
   "execution_count": 25,
   "id": "f8bea854",
   "metadata": {},
   "outputs": [
    {
     "name": "stdout",
     "output_type": "stream",
     "text": [
      "CPU times: total: 31.2 ms\n",
      "Wall time: 1.61 s\n"
     ]
    },
    {
     "data": {
      "application/javascript": "\n            setTimeout(function() {\n                var nbb_cell_id = 25;\n                var nbb_unformatted_code = \"%%time\\ntipo_crimenes = [\\\"THEFT\\\", \\\"ASSAULT\\\", \\\"ROBBERY\\\", \\\"STALKING\\\", \\\"BATTERY\\\", \\\"SEX OFFENSE\\\", \\\"KIDNAPPING\\\", \\\"NARCOTICS\\\"]\\nloc_descripcion = df.groupBy(\\\"Location Description\\\").count().sort(F.desc(\\\"count\\\")).collect()\\nloc_descripcion = [x[\\\"Location Description\\\"] for x in loc_descripcion]\";\n                var nbb_formatted_code = \"%%time\\ntipo_crimenes = [\\\"THEFT\\\", \\\"ASSAULT\\\", \\\"ROBBERY\\\", \\\"STALKING\\\", \\\"BATTERY\\\", \\\"SEX OFFENSE\\\", \\\"KIDNAPPING\\\", \\\"NARCOTICS\\\"]\\nloc_descripcion = df.groupBy(\\\"Location Description\\\").count().sort(F.desc(\\\"count\\\")).collect()\\nloc_descripcion = [x[\\\"Location Description\\\"] for x in loc_descripcion]\";\n                var nbb_cells = Jupyter.notebook.get_cells();\n                for (var i = 0; i < nbb_cells.length; ++i) {\n                    if (nbb_cells[i].input_prompt_number == nbb_cell_id) {\n                        if (nbb_cells[i].get_text() == nbb_unformatted_code) {\n                             nbb_cells[i].set_text(nbb_formatted_code);\n                        }\n                        break;\n                    }\n                }\n            }, 500);\n            ",
      "text/plain": [
       "<IPython.core.display.Javascript object>"
      ]
     },
     "metadata": {},
     "output_type": "display_data"
    }
   ],
   "source": [
    "%%time\n",
    "tipo_crimenes = [\"THEFT\", \"ASSAULT\", \"ROBBERY\", \"STALKING\", \"BATTERY\", \"SEX OFFENSE\", \"KIDNAPPING\", \"NARCOTICS\"]\n",
    "loc_descripcion = df.groupBy(\"Location Description\").count().sort(F.desc(\"count\")).collect()\n",
    "loc_descripcion = [x[\"Location Description\"] for x in loc_descripcion]"
   ]
  },
  {
   "cell_type": "code",
   "execution_count": 26,
   "id": "893aa5e7",
   "metadata": {},
   "outputs": [
    {
     "data": {
      "text/plain": [
       "['STREET',\n",
       " 'RESIDENCE',\n",
       " 'APARTMENT',\n",
       " 'SIDEWALK',\n",
       " 'OTHER',\n",
       " 'PARKING LOT/GARAGE(NON.RESID.)',\n",
       " 'ALLEY',\n",
       " 'RESIDENTIAL YARD (FRONT/BACK)',\n",
       " 'SMALL RETAIL STORE',\n",
       " 'SCHOOL, PUBLIC, BUILDING']"
      ]
     },
     "execution_count": 26,
     "metadata": {},
     "output_type": "execute_result"
    },
    {
     "data": {
      "application/javascript": "\n            setTimeout(function() {\n                var nbb_cell_id = 26;\n                var nbb_unformatted_code = \"loc_descripcion[:10]\";\n                var nbb_formatted_code = \"loc_descripcion[:10]\";\n                var nbb_cells = Jupyter.notebook.get_cells();\n                for (var i = 0; i < nbb_cells.length; ++i) {\n                    if (nbb_cells[i].input_prompt_number == nbb_cell_id) {\n                        if (nbb_cells[i].get_text() == nbb_unformatted_code) {\n                             nbb_cells[i].set_text(nbb_formatted_code);\n                        }\n                        break;\n                    }\n                }\n            }, 500);\n            ",
      "text/plain": [
       "<IPython.core.display.Javascript object>"
      ]
     },
     "metadata": {},
     "output_type": "display_data"
    }
   ],
   "source": [
    "loc_descripcion[:10]"
   ]
  },
  {
   "cell_type": "code",
   "execution_count": 29,
   "id": "08bf1461",
   "metadata": {},
   "outputs": [
    {
     "data": {
      "text/plain": [
       "143"
      ]
     },
     "execution_count": 29,
     "metadata": {},
     "output_type": "execute_result"
    },
    {
     "data": {
      "application/javascript": "\n            setTimeout(function() {\n                var nbb_cell_id = 29;\n                var nbb_unformatted_code = \"len(loc_descripcion)\";\n                var nbb_formatted_code = \"len(loc_descripcion)\";\n                var nbb_cells = Jupyter.notebook.get_cells();\n                for (var i = 0; i < nbb_cells.length; ++i) {\n                    if (nbb_cells[i].input_prompt_number == nbb_cell_id) {\n                        if (nbb_cells[i].get_text() == nbb_unformatted_code) {\n                             nbb_cells[i].set_text(nbb_formatted_code);\n                        }\n                        break;\n                    }\n                }\n            }, 500);\n            ",
      "text/plain": [
       "<IPython.core.display.Javascript object>"
      ]
     },
     "metadata": {},
     "output_type": "display_data"
    }
   ],
   "source": [
    "len(loc_descripcion)"
   ]
  },
  {
   "cell_type": "code",
   "execution_count": 33,
   "id": "f27141e3",
   "metadata": {},
   "outputs": [
    {
     "name": "stdout",
     "output_type": "stream",
     "text": [
      "CPU times: total: 1.98 s\n",
      "Wall time: 8.82 s\n"
     ]
    },
    {
     "data": {
      "application/javascript": "\n            setTimeout(function() {\n                var nbb_cell_id = 33;\n                var nbb_unformatted_code = \"%%time\\ndato_procesado = procesando_datos(df, loc_descripcion[:20], tipo_crimenes)\";\n                var nbb_formatted_code = \"%%time\\ndato_procesado = procesando_datos(df, loc_descripcion[:20], tipo_crimenes)\";\n                var nbb_cells = Jupyter.notebook.get_cells();\n                for (var i = 0; i < nbb_cells.length; ++i) {\n                    if (nbb_cells[i].input_prompt_number == nbb_cell_id) {\n                        if (nbb_cells[i].get_text() == nbb_unformatted_code) {\n                             nbb_cells[i].set_text(nbb_formatted_code);\n                        }\n                        break;\n                    }\n                }\n            }, 500);\n            ",
      "text/plain": [
       "<IPython.core.display.Javascript object>"
      ]
     },
     "metadata": {},
     "output_type": "display_data"
    }
   ],
   "source": [
    "%%time\n",
    "dato_procesado = procesando_datos(df, loc_descripcion[:20], tipo_crimenes)"
   ]
  },
  {
   "cell_type": "code",
   "execution_count": 36,
   "id": "8423bb6e",
   "metadata": {},
   "outputs": [
    {
     "name": "stdout",
     "output_type": "stream",
     "text": [
      "+---+-----+----+------+\n",
      "|end|Count|Mean|Median|\n",
      "+---+-----+----+------+\n",
      "+---+-----+----+------+\n",
      "\n"
     ]
    },
    {
     "data": {
      "application/javascript": "\n            setTimeout(function() {\n                var nbb_cell_id = 36;\n                var nbb_unformatted_code = \"dato_procesado[\\\"SEX OFFENSE\\\"][\\\"RESIDENCE\\\"].show(5)\";\n                var nbb_formatted_code = \"dato_procesado[\\\"SEX OFFENSE\\\"][\\\"RESIDENCE\\\"].show(5)\";\n                var nbb_cells = Jupyter.notebook.get_cells();\n                for (var i = 0; i < nbb_cells.length; ++i) {\n                    if (nbb_cells[i].input_prompt_number == nbb_cell_id) {\n                        if (nbb_cells[i].get_text() == nbb_unformatted_code) {\n                             nbb_cells[i].set_text(nbb_formatted_code);\n                        }\n                        break;\n                    }\n                }\n            }, 500);\n            ",
      "text/plain": [
       "<IPython.core.display.Javascript object>"
      ]
     },
     "metadata": {},
     "output_type": "display_data"
    }
   ],
   "source": [
    "dato_procesado[\"SEX OFFENSE\"][\"RESIDENCE\"].show(5)"
   ]
  }
 ],
 "metadata": {
  "kernelspec": {
   "display_name": "Python 3.8.13 ('IA')",
   "language": "python",
   "name": "python3"
  },
  "language_info": {
   "codemirror_mode": {
    "name": "ipython",
    "version": 3
   },
   "file_extension": ".py",
   "mimetype": "text/x-python",
   "name": "python",
   "nbconvert_exporter": "python",
   "pygments_lexer": "ipython3",
   "version": "3.8.13"
  },
  "vscode": {
   "interpreter": {
    "hash": "caf226e8141f7f2766267d4bff775ae294c0a7aaba4d7456f7557263250594e9"
   }
  }
 },
 "nbformat": 4,
 "nbformat_minor": 5
}
